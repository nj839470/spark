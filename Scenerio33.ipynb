{
 "cells": [
  {
   "cell_type": "code",
   "execution_count": 0,
   "metadata": {
    "application/vnd.databricks.v1+cell": {
     "cellMetadata": {
      "byteLimit": 2048000,
      "rowLimit": 10000
     },
     "inputWidgets": {},
     "nuid": "7d62da1e-f835-4c4a-9737-9d372a69a19b",
     "showTitle": false,
     "title": ""
    }
   },
   "outputs": [
    {
     "output_type": "stream",
     "name": "stdout",
     "output_type": "stream",
     "text": [
      "+--------------------+--------------+-----------+\n|                  id|          name|family_size|\n+--------------------+--------------+-----------+\n|c00dac11bde74750b...|   Alex Thomas|          9|\n|eb6f2d3426694667a...|    Chris Gray|          2|\n|3f7b5b8e835d4e1c8...| Emily Johnson|          4|\n|9a345b079d9f4d3ca...| Michael Brown|          6|\n|e0a5f57516024de2a...|Jessica Wilson|          3|\n+--------------------+--------------+-----------+\n\n+--------------------+------------+--------+--------+\n|                  id|        name|min_size|max_size|\n+--------------------+------------+--------+--------+\n|023fd23615bd4ff4b...|     Bolivia|       2|       4|\n|be247f73de0f4b2d8...|Cook Islands|       4|       8|\n|3e85ab80a6f84ef3b...|      Brazil|       4|       7|\n|e571e164152c4f7c8...|   Australia|       5|       9|\n|f35a7bb7d44342f7a...|      Canada|       3|       5|\n|a1b5a4b5fc5f46f89...|       Japan|      10|      12|\n+--------------------+------------+--------+--------+\n\n"
     ]
    }
   ],
   "source": [
    "data = [('c00dac11bde74750b4d207b9c182a85f', 'Alex Thomas', 9),('eb6f2d3426694667ae3e79d6274114a4', 'Chris Gray', 2),('3f7b5b8e835d4e1c8b3e12e964a741f3', 'Emily Johnson', 4),('9a345b079d9f4d3cafb2d4c11d20f8ce', 'Michael Brown', 6),('e0a5f57516024de2a231d09de2cbe9d1', 'Jessica Wilson', 3)]\n",
    "\n",
    "familydf = spark.createDataFrame(data,[\"id\",\"name\",\"family_size\"])\n",
    "familydf.show()\n",
    "\n",
    "countrydata = [('023fd23615bd4ff4b2ae0a13ed7efec9', 'Bolivia', 2 , 4),('be247f73de0f4b2d810367cb26941fb9', 'Cook Islands', 4,8),('3e85ab80a6f84ef3b9068b21dbcc54b3', 'Brazil', 4,7),('e571e164152c4f7c8413e2734f67b146', 'Australia', 5,9),('f35a7bb7d44342f7a8a42a53115294a8', 'Canada', 3,5),('a1b5a4b5fc5f46f891d9040566a78f27', 'Japan', 10,12)]\n",
    "\n",
    "countrydf = spark.createDataFrame(countrydata,[\"id\",\"name\",\"min_size\",\"max_size\"])\n",
    "countrydf.show()\n",
    "\n"
   ]
  },
  {
   "cell_type": "code",
   "execution_count": 0,
   "metadata": {
    "application/vnd.databricks.v1+cell": {
     "cellMetadata": {
      "byteLimit": 2048000,
      "rowLimit": 10000
     },
     "inputWidgets": {},
     "nuid": "b3301004-40eb-4c42-b786-eef92e7fff40",
     "showTitle": false,
     "title": ""
    }
   },
   "outputs": [
    {
     "output_type": "stream",
     "name": "stdout",
     "output_type": "stream",
     "text": [
      "+--------------+-----------+------------+--------+--------+\n|          name|family_size|        name|min_size|max_size|\n+--------------+-----------+------------+--------+--------+\n|   Alex Thomas|          9|   Australia|       5|       9|\n|    Chris Gray|          2|     Bolivia|       2|       4|\n| Emily Johnson|          4|     Bolivia|       2|       4|\n| Emily Johnson|          4|Cook Islands|       4|       8|\n| Emily Johnson|          4|      Brazil|       4|       7|\n| Emily Johnson|          4|      Canada|       3|       5|\n| Michael Brown|          6|Cook Islands|       4|       8|\n| Michael Brown|          6|      Brazil|       4|       7|\n| Michael Brown|          6|   Australia|       5|       9|\n|Jessica Wilson|          3|     Bolivia|       2|       4|\n|Jessica Wilson|          3|      Canada|       3|       5|\n+--------------+-----------+------------+--------+--------+\n\n"
     ]
    }
   ],
   "source": [
    "joindf = familydf.join(countrydf, (familydf[\"family_size\"]>=countrydf[\"min_size\"]) & (familydf[\"family_size\"]<=countrydf[\"max_size\"]),\"inner\").select(familydf[\"name\"],familydf[\"family_size\"],countrydf[\"name\"],\"min_size\",\"max_size\")\n",
    "joindf.show()"
   ]
  },
  {
   "cell_type": "code",
   "execution_count": 0,
   "metadata": {
    "application/vnd.databricks.v1+cell": {
     "cellMetadata": {
      "byteLimit": 2048000,
      "rowLimit": 10000
     },
     "inputWidgets": {},
     "nuid": "e7769658-2204-44fc-9f37-0ea2f9b40b01",
     "showTitle": false,
     "title": ""
    }
   },
   "outputs": [
    {
     "output_type": "stream",
     "name": "stdout",
     "output_type": "stream",
     "text": [
      "+--------------+-------------------+\n|          name|number_of_countries|\n+--------------+-------------------+\n|   Alex Thomas|                  1|\n|    Chris Gray|                  1|\n| Emily Johnson|                  4|\n| Michael Brown|                  3|\n|Jessica Wilson|                  2|\n+--------------+-------------------+\n\n"
     ]
    }
   ],
   "source": [
    "from pyspark.sql.functions import *\n",
    "\n",
    "groupdf = joindf.groupBy(familydf[\"name\"]).agg(count(\"*\").alias(\"number_of_countries\"))\n",
    "groupdf.show()"
   ]
  },
  {
   "cell_type": "code",
   "execution_count": 0,
   "metadata": {
    "application/vnd.databricks.v1+cell": {
     "cellMetadata": {
      "byteLimit": 2048000,
      "rowLimit": 10000
     },
     "inputWidgets": {},
     "nuid": "c435acec-02ea-4fe7-8c29-5c624840243c",
     "showTitle": false,
     "title": ""
    }
   },
   "outputs": [
    {
     "output_type": "stream",
     "name": "stdout",
     "output_type": "stream",
     "text": [
      "+-------------------+\n|number_of_countries|\n+-------------------+\n|                  4|\n+-------------------+\n\n"
     ]
    }
   ],
   "source": [
    "finaldf = groupdf.agg(expr(\"max(number)\").alias(\"number_of_countries\"))\n",
    "finaldf.show()\n"
   ]
  },
  {
   "cell_type": "code",
   "execution_count": 0,
   "metadata": {
    "application/vnd.databricks.v1+cell": {
     "cellMetadata": {
      "byteLimit": 2048000,
      "rowLimit": 10000
     },
     "inputWidgets": {},
     "nuid": "7d1af649-a565-4bc1-816f-3d60e846d85d",
     "showTitle": false,
     "title": ""
    }
   },
   "outputs": [
    {
     "output_type": "stream",
     "name": "stdout",
     "output_type": "stream",
     "text": [
      "+--------------+-------------------+----+\n|          name|number_of_countries|rank|\n+--------------+-------------------+----+\n| Emily Johnson|                  4|   1|\n| Michael Brown|                  3|   2|\n|Jessica Wilson|                  2|   3|\n|   Alex Thomas|                  1|   4|\n|    Chris Gray|                  1|   5|\n+--------------+-------------------+----+\n\n+-------------+-------------------+\n|         name|number_of_countries|\n+-------------+-------------------+\n|Emily Johnson|                  4|\n+-------------+-------------------+\n\n"
     ]
    }
   ],
   "source": [
    "from pyspark.sql.functions import *\n",
    "from pyspark.sql import *\n",
    "from pyspark.sql.types import *\n",
    "\n",
    "#another way \n",
    "wn = Window.orderBy(desc(\"number_of_countries\"))\n",
    "\n",
    "rankdf = groupdf.withColumn(\"rank\",row_number().over(wn))\n",
    "rankdf.show()\n",
    "\n",
    "finaldf2 = rankdf.filter(col(\"rank\")==1).drop(\"rank\")\n",
    "finaldf2.show()"
   ]
  }
 ],
 "metadata": {
  "application/vnd.databricks.v1+notebook": {
   "dashboards": [],
   "language": "python",
   "notebookMetadata": {
    "mostRecentlyExecutedCommandWithImplicitDF": {
     "commandId": 1190225536909284,
     "dataframes": [
      "_sqldf"
     ]
    },
    "pythonIndentUnit": 4
   },
   "notebookName": "Scenerio33",
   "widgets": {}
  }
 },
 "nbformat": 4,
 "nbformat_minor": 0
}
