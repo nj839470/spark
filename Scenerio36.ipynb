{
 "cells": [
  {
   "cell_type": "code",
   "execution_count": 0,
   "metadata": {
    "application/vnd.databricks.v1+cell": {
     "cellMetadata": {
      "byteLimit": 2048000,
      "rowLimit": 10000
     },
     "inputWidgets": {},
     "nuid": "ca93cda6-3519-4de0-9539-49871d155641",
     "showTitle": false,
     "tableResultSettingsMap": {},
     "title": ""
    }
   },
   "outputs": [
    {
     "output_type": "stream",
     "name": "stdout",
     "output_type": "stream",
     "text": [
      "+----------+----------+\n| sell_date|   product|\n+----------+----------+\n|2020-05-30| Headphone|\n|2020-06-01|    Pencil|\n|2020-06-02|      Mask|\n|2020-05-30|Basketball|\n|2020-06-01|      Book|\n|2020-06-02|      Mask|\n|2020-05-30|   T-Shirt|\n+----------+----------+\n\n"
     ]
    }
   ],
   "source": [
    "from pyspark.sql import *\n",
    "from pyspark.sql.types import *\n",
    "from pyspark.sql.functions import *\n",
    "\n",
    "data = [('2020-05-30','Headphone'),('2020-06-01','Pencil'),('2020-06-02','Mask'),('2020-05-30','Basketball'),('2020-06-01','Book'),('2020-06-02','Mask'),('2020-05-30','T-Shirt')]\n",
    "columns = [\"sell_date\",'product']\n",
    "\n",
    "df = spark.createDataFrame(data,schema=columns)\n",
    "df.show()"
   ]
  },
  {
   "cell_type": "code",
   "execution_count": 0,
   "metadata": {
    "application/vnd.databricks.v1+cell": {
     "cellMetadata": {
      "byteLimit": 2048000,
      "rowLimit": 10000
     },
     "inputWidgets": {},
     "nuid": "f53d6dfa-42b0-40bb-b525-340738e326dc",
     "showTitle": false,
     "tableResultSettingsMap": {},
     "title": ""
    }
   },
   "outputs": [
    {
     "output_type": "stream",
     "name": "stdout",
     "output_type": "stream",
     "text": [
      "+----------+--------------------+---------+\n| sell_date|            products|null_sell|\n+----------+--------------------+---------+\n|2020-05-30|[T-Shirt, Basketb...|        3|\n|2020-06-01|      [Pencil, Book]|        2|\n|2020-06-02|              [Mask]|        1|\n+----------+--------------------+---------+\n\n"
     ]
    }
   ],
   "source": [
    "transfdf = df.groupBy(\"sell_date\").agg(collect_set(\"product\").alias(\"products\"),size(collect_set(\"product\")).alias(\"null_sell\"))\n",
    "transfdf.show()"
   ]
  }
 ],
 "metadata": {
  "application/vnd.databricks.v1+notebook": {
   "computePreferences": null,
   "dashboards": [],
   "environmentMetadata": {
    "base_environment": "",
    "client": "1"
   },
   "language": "python",
   "notebookMetadata": {
    "mostRecentlyExecutedCommandWithImplicitDF": {
     "commandId": 1835178097274309,
     "dataframes": [
      "_sqldf"
     ]
    },
    "pythonIndentUnit": 4
   },
   "notebookName": "Untitled Notebook 2025-01-09 10:25:48",
   "widgets": {}
  }
 },
 "nbformat": 4,
 "nbformat_minor": 0
}
