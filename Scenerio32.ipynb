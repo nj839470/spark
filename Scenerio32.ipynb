{
 "cells": [
  {
   "cell_type": "code",
   "execution_count": 0,
   "metadata": {
    "application/vnd.databricks.v1+cell": {
     "cellMetadata": {
      "byteLimit": 2048000,
      "rowLimit": 10000
     },
     "inputWidgets": {},
     "nuid": "46f4d97c-7f60-4a82-a7c0-4b8923dc0f46",
     "showTitle": false,
     "title": ""
    }
   },
   "outputs": [
    {
     "output_type": "stream",
     "name": "stdout",
     "output_type": "stream",
     "text": [
      "+-------+-------------------+\n|food_id|          food_item|\n+-------+-------------------+\n|      1|        Veg Biryani|\n|      2|     Veg Fried Rice|\n|      3|    Kaju Fried Rice|\n|      4|    Chicken Biryani|\n|      5|Chicken Dum Biryani|\n|      6|     Prawns Biryani|\n|      7|      Fish Birayani|\n+-------+-------------------+\n\n+-------+------+\n|food_id|rating|\n+-------+------+\n|      1|     5|\n|      2|     3|\n|      3|     4|\n|      4|     4|\n|      5|     5|\n|      6|     4|\n|      7|     4|\n+-------+------+\n\n"
     ]
    }
   ],
   "source": [
    "data = [(1,\"Veg Biryani\"),(2,\"Veg Fried Rice\"),(3,\"Kaju Fried Rice\"),(4,\"Chicken Biryani\"),(5,\"Chicken Dum Biryani\"),(6,\"Prawns Biryani\"),(7,\"Fish Birayani\")]\n",
    "\n",
    "df1 = spark.createDataFrame(data,[\"food_id\",\"food_item\"])\n",
    "df1.show()\n",
    "\n",
    "ratings = [(1,5),(2,3),(3,4),(4,4),(5,5),(6,4),(7,4)]\n",
    "\n",
    "df2 = spark.createDataFrame(ratings,[\"food_id\",\"rating\"])\n",
    "df2.show()"
   ]
  },
  {
   "cell_type": "code",
   "execution_count": 0,
   "metadata": {
    "application/vnd.databricks.v1+cell": {
     "cellMetadata": {
      "byteLimit": 2048000,
      "rowLimit": 10000
     },
     "inputWidgets": {},
     "nuid": "6876f425-2609-4923-9de4-090a4f0ecb09",
     "showTitle": false,
     "title": ""
    }
   },
   "outputs": [
    {
     "output_type": "stream",
     "name": "stdout",
     "output_type": "stream",
     "text": [
      "+-------+-------------------+------+\n|food_id|          food_item|rating|\n+-------+-------------------+------+\n|      1|        Veg Biryani|     5|\n|      2|     Veg Fried Rice|     3|\n|      3|    Kaju Fried Rice|     4|\n|      4|    Chicken Biryani|     4|\n|      5|Chicken Dum Biryani|     5|\n|      6|     Prawns Biryani|     4|\n|      7|      Fish Birayani|     4|\n+-------+-------------------+------+\n\n"
     ]
    }
   ],
   "source": [
    "joindf = df1.join(df2,df1[\"food_id\"]==df2[\"food_id\"],\"inner\").select(df1[\"food_id\"],\"food_item\",\"rating\")\n",
    "joindf.show()"
   ]
  },
  {
   "cell_type": "code",
   "execution_count": 0,
   "metadata": {
    "application/vnd.databricks.v1+cell": {
     "cellMetadata": {
      "byteLimit": 2048000,
      "rowLimit": 10000
     },
     "inputWidgets": {},
     "nuid": "df16c628-d638-43a0-9032-ac606c8983d7",
     "showTitle": false,
     "title": ""
    }
   },
   "outputs": [
    {
     "output_type": "stream",
     "name": "stdout",
     "output_type": "stream",
     "text": [
      "+-------+-------------------+------+---------------+\n|food_id|          food_item|rating|stats(out of 5)|\n+-------+-------------------+------+---------------+\n|      1|        Veg Biryani|     5|          *****|\n|      2|     Veg Fried Rice|     3|            ***|\n|      3|    Kaju Fried Rice|     4|           ****|\n|      4|    Chicken Biryani|     4|           ****|\n|      5|Chicken Dum Biryani|     5|          *****|\n|      6|     Prawns Biryani|     4|           ****|\n|      7|      Fish Birayani|     4|           ****|\n+-------+-------------------+------+---------------+\n\n"
     ]
    }
   ],
   "source": [
    "from pyspark.sql.functions import *\n",
    "\n",
    "finaldf = joindf.withColumn(\"stats(out of 5)\",expr(\"repeat('*',rating)\"))\n",
    "finaldf.show()"
   ]
  }
 ],
 "metadata": {
  "application/vnd.databricks.v1+notebook": {
   "dashboards": [],
   "language": "python",
   "notebookMetadata": {
    "pythonIndentUnit": 4
   },
   "notebookName": "Scenerio32",
   "widgets": {}
  }
 },
 "nbformat": 4,
 "nbformat_minor": 0
}
