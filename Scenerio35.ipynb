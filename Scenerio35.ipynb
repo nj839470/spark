{
 "cells": [
  {
   "cell_type": "code",
   "execution_count": 0,
   "metadata": {
    "application/vnd.databricks.v1+cell": {
     "cellMetadata": {
      "byteLimit": 2048000,
      "rowLimit": 10000
     },
     "inputWidgets": {},
     "nuid": "3f914fd1-1329-49c0-a8ce-60e2aa6ed910",
     "showTitle": false,
     "title": ""
    }
   },
   "outputs": [
    {
     "output_type": "stream",
     "name": "stdout",
     "output_type": "stream",
     "text": [
      "+---+------+----+\n| id|  name| age|\n+---+------+----+\n|  1|  Jhon|  17|\n|  2| Maria|  20|\n|  3|   Raj|NULL|\n|  4|Rachel|  18|\n+---+------+----+\n\n"
     ]
    }
   ],
   "source": [
    "from pyspark.sql import *\n",
    "from pyspark.sql.types import *\n",
    "from pyspark.sql.functions import *\n",
    "\n",
    "#creating the dataframe df1\n",
    "data1 = [(1,'Jhon',17),(2,'Maria',20),(3,'Raj',None),(4,'Rachel',18)]\n",
    "columns = [\"id\",\"name\",\"age\"]\n",
    "df1 = spark.createDataFrame(data1,columns)\n",
    "df1.show()"
   ]
  },
  {
   "cell_type": "code",
   "execution_count": 0,
   "metadata": {
    "application/vnd.databricks.v1+cell": {
     "cellMetadata": {
      "byteLimit": 2048000,
      "rowLimit": 10000
     },
     "inputWidgets": {},
     "nuid": "3cbc97a7-fda7-42fc-994e-75bef590271e",
     "showTitle": false,
     "title": ""
    }
   },
   "outputs": [
    {
     "output_type": "stream",
     "name": "stdout",
     "output_type": "stream",
     "text": [
      "+---+----+---+\n| id|name|age|\n+---+----+---+\n|  0|   0|  1|\n+---+----+---+\n\n"
     ]
    }
   ],
   "source": [
    "# Count null entries in each column\n",
    "null_counts = df1.select([sum(col(c).isNull().cast(\"int\")).alias(c) for c in df1.columns])\n",
    "\n",
    "null_counts.show()"
   ]
  },
  {
   "cell_type": "code",
   "execution_count": 0,
   "metadata": {
    "application/vnd.databricks.v1+cell": {
     "cellMetadata": {
      "byteLimit": 2048000,
      "rowLimit": 10000
     },
     "inputWidgets": {},
     "nuid": "9a1bfc1d-07f0-4f0a-9cb8-98943b762e3c",
     "showTitle": false,
     "title": ""
    }
   },
   "outputs": [
    {
     "output_type": "stream",
     "name": "stdout",
     "output_type": "stream",
     "text": [
      "+---+----+----+\n| id|name| age|\n+---+----+----+\n|  3| Raj|NULL|\n+---+----+----+\n\n"
     ]
    }
   ],
   "source": [
    "#Remove the row with null entires and store them in a new dataframe named df2\n",
    "df2 = df1.filter(col(\"age\").isNull())\n",
    "df2.show()"
   ]
  },
  {
   "cell_type": "code",
   "execution_count": 0,
   "metadata": {
    "application/vnd.databricks.v1+cell": {
     "cellMetadata": {
      "byteLimit": 2048000,
      "rowLimit": 10000
     },
     "inputWidgets": {},
     "nuid": "c138332c-c270-42ca-81b4-27cfee8f314e",
     "showTitle": false,
     "title": ""
    }
   },
   "outputs": [
    {
     "output_type": "stream",
     "name": "stdout",
     "output_type": "stream",
     "text": [
      "+---+--------+----+\n| id|    city|code|\n+---+--------+----+\n|  1|  seatle|  82|\n|  2|  london|  75|\n|  3|banglore|  60|\n|  4|  boston|  90|\n+---+--------+----+\n\n+---+------+----+--------+----+\n| id|  name| age|    city|code|\n+---+------+----+--------+----+\n|  1|  Jhon|  17|  seatle|  82|\n|  2| Maria|  20|  london|  75|\n|  3|   Raj|NULL|banglore|  60|\n|  4|Rachel|  18|  boston|  90|\n+---+------+----+--------+----+\n\n"
     ]
    }
   ],
   "source": [
    "#create a new dataframe df3\n",
    "data2 = [(1,'seatle',82),(2,'london',75),(3,'banglore',60),(4,'boston',90)]\n",
    "columns2 = [\"id\",\"city\",\"code\"]\n",
    "\n",
    "df3 = spark.createDataFrame(data2,columns2)\n",
    "df3.show()\n",
    "\n",
    "mergedf = df1.join(df3, df1[\"id\"]==df3[\"id\"],\"inner\").select(df1[\"id\"],\"name\",\"age\",\"city\",\"code\")\n",
    "mergedf.show()"
   ]
  },
  {
   "cell_type": "code",
   "execution_count": 0,
   "metadata": {
    "application/vnd.databricks.v1+cell": {
     "cellMetadata": {
      "byteLimit": 2048000,
      "rowLimit": 10000
     },
     "inputWidgets": {},
     "nuid": "47c7ba70-7fef-4e00-b451-ac7809ca909f",
     "showTitle": false,
     "title": ""
    }
   },
   "outputs": [
    {
     "output_type": "stream",
     "name": "stdout",
     "output_type": "stream",
     "text": [
      "18.0\n+---+------+---+--------+----+\n| id|  name|age|    city|code|\n+---+------+---+--------+----+\n|  1|  Jhon| 17|  seatle|  82|\n|  2| Maria| 20|  london|  75|\n|  3|   Raj| 18|banglore|  60|\n|  4|Rachel| 18|  boston|  90|\n+---+------+---+--------+----+\n\n"
     ]
    }
   ],
   "source": [
    "#fill the null value with the mean age of students\n",
    "#calculate the mean age\n",
    "meanage = mergedf.select(round(mean(\"age\"))).collect()[0][0]\n",
    "print(meanage)\n",
    "\n",
    "filldf = mergedf.na.fill({\"age\":meanage})\n",
    "filldf.show()"
   ]
  },
  {
   "cell_type": "code",
   "execution_count": 0,
   "metadata": {
    "application/vnd.databricks.v1+cell": {
     "cellMetadata": {
      "byteLimit": 2048000,
      "rowLimit": 10000
     },
     "inputWidgets": {},
     "nuid": "3add2a14-6501-4b80-8520-8f5310f0c45b",
     "showTitle": false,
     "title": ""
    }
   },
   "outputs": [
    {
     "output_type": "stream",
     "name": "stdout",
     "output_type": "stream",
     "text": [
      "+---+------+---+--------+----+\n| id|  name|age|    city|code|\n+---+------+---+--------+----+\n|  2| Maria| 20|  london|  75|\n|  3|   Raj| 18|banglore|  60|\n|  4|Rachel| 18|  boston|  90|\n+---+------+---+--------+----+\n\n"
     ]
    }
   ],
   "source": [
    "#Get the students who are 18 years or older\n",
    "filterdf = filldf.filter(col(\"age\")>= 18)\n",
    "filterdf.show()"
   ]
  }
 ],
 "metadata": {
  "application/vnd.databricks.v1+notebook": {
   "dashboards": [],
   "environmentMetadata": null,
   "language": "python",
   "notebookMetadata": {
    "pythonIndentUnit": 4
   },
   "notebookName": "Scenerio35",
   "widgets": {}
  }
 },
 "nbformat": 4,
 "nbformat_minor": 0
}
