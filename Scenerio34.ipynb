{
 "cells": [
  {
   "cell_type": "code",
   "execution_count": 0,
   "metadata": {
    "application/vnd.databricks.v1+cell": {
     "cellMetadata": {
      "byteLimit": 2048000,
      "rowLimit": 10000
     },
     "inputWidgets": {},
     "nuid": "c5c448dc-6b9b-4fd7-84c0-cc0ff8db79be",
     "showTitle": false,
     "title": ""
    }
   },
   "outputs": [
    {
     "output_type": "stream",
     "name": "stdout",
     "output_type": "stream",
     "text": [
      "+-----------+------+---+------+\n|customer_id|  name|age|gender|\n+-----------+------+---+------+\n|          1| Alice| 25|     F|\n|          2|   Bob| 40|     M|\n|          3|   Raj| 46|     M|\n|          4| Sekar| 66|     M|\n|          5|  Jhon| 47|     M|\n|          6|Timoty| 28|     M|\n|          7|  Brad| 90|     M|\n|          8|  Rita| 34|     F|\n+-----------+------+---+------+\n\n+-----------+------+---+------+---------+\n|customer_id|  name|age|gender|age_group|\n+-----------+------+---+------+---------+\n|          1| Alice| 25|     F|    19-35|\n|          2|   Bob| 40|     M|    36-50|\n|          3|   Raj| 46|     M|    36-50|\n|          4| Sekar| 66|     M|      51+|\n|          5|  Jhon| 47|     M|    36-50|\n|          6|Timoty| 28|     M|    19-35|\n|          7|  Brad| 90|     M|      51+|\n|          8|  Rita| 34|     F|    19-35|\n+-----------+------+---+------+---------+\n\n+---------+-----+\n|age_group|count|\n+---------+-----+\n|    19-35|    3|\n|    36-50|    3|\n|      51+|    2|\n+---------+-----+\n\n"
     ]
    }
   ],
   "source": [
    "from pyspark.sql.types import *\n",
    "from pyspark.sql import *\n",
    "from pyspark.sql.functions import *\n",
    "\n",
    "data = [(1,'Alice',25,'F'),(2,'Bob',40,'M'),(3,'Raj',46,'M'),(4,'Sekar',66,'M'),(5,'Jhon',47,'M'),(6,'Timoty',28,'M'),(7,'Brad',90,'M'),(8,'Rita',34,'F')]\n",
    "\n",
    "df = spark.createDataFrame(data,['customer_id','name','age','gender'])\n",
    "df.show()\n",
    "\n",
    "#groupdf = df.withColumn(\"age_group\",expr(\"case when age between 19 and 35 then '19-35' case when age between 36 and 50 then '36-50' case when age > 51 then '51+'  else age end\"))\n",
    "groupdf = df.withColumn(\n",
    "    \"age_group\",\n",
    "    expr(\n",
    "        \"case when age between 19 and 35 then '19-35' \" +\n",
    "        \"when age between 36 and 50 then '36-50' \" +\n",
    "        \"when age > 51 then '51+' \" +\n",
    "        \"else 'Other' end\"\n",
    "    )\n",
    ")\n",
    "groupdf.show()\n",
    "\n",
    "finaldf = groupdf.groupBy('age_group').agg(count('*').alias('count'))\n",
    "finaldf.show()"
   ]
  }
 ],
 "metadata": {
  "application/vnd.databricks.v1+notebook": {
   "dashboards": [],
   "environmentMetadata": null,
   "language": "python",
   "notebookMetadata": {
    "pythonIndentUnit": 4
   },
   "notebookName": "Scenerio34",
   "widgets": {}
  }
 },
 "nbformat": 4,
 "nbformat_minor": 0
}
