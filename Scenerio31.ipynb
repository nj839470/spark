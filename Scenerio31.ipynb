{
 "cells": [
  {
   "cell_type": "code",
   "execution_count": 7,
   "id": "d20891a9-7e5c-440e-be32-92e3ea3b5632",
   "metadata": {
    "tags": []
   },
   "outputs": [],
   "source": [
    "from pyspark import *\n",
    "from pyspark import SparkConf, SparkContext\n",
    "from pyspark.sql import *\n",
    "from pyspark.sql import SparkSession\n",
    "from pyspark.sql.functions import *\n",
    "from pyspark.sql.types import *\n",
    "from pyspark.sql.window import *\n",
    "\n",
    "conf = SparkConf().setMaster(\"local[*]\").setAppName(\"test\")\n",
    "sc = SparkContext(conf=conf)\n",
    "sc.setLogLevel(\"ERROR\")\n",
    "\n",
    "spark = SparkSession.builder.getOrCreate()"
   ]
  },
  {
   "cell_type": "code",
   "execution_count": 8,
   "id": "a4821839-667b-4aa0-9f40-e6f944e1d5fb",
   "metadata": {
    "tags": []
   },
   "outputs": [
    {
     "name": "stdout",
     "output_type": "stream",
     "text": [
      "+----+-----+--------+-----------+\n",
      "|col1| col2|    col3|       col4|\n",
      "+----+-----+--------+-----------+\n",
      "|  m1|m1,m2|m1,m2,m3|m1,m2,m3,m4|\n",
      "+----+-----+--------+-----------+\n",
      "\n"
     ]
    }
   ],
   "source": [
    "# creating the dataframe\n",
    "\n",
    "data = [(\"m1\", \"m1,m2\", \"m1,m2,m3\", \"m1,m2,m3,m4\")]\n",
    "\n",
    "df = spark.createDataFrame(data, [\"col1\", \"col2\", \"col3\", \"col4\"])\n",
    "df.show()"
   ]
  },
  {
   "cell_type": "code",
   "execution_count": 14,
   "id": "0249aa2d-81a9-4247-a0fd-b8ee74fb6fcf",
   "metadata": {
    "tags": []
   },
   "outputs": [
    {
     "name": "stdout",
     "output_type": "stream",
     "text": [
      "+--------------------+\n",
      "|                 col|\n",
      "+--------------------+\n",
      "|m1-m1,m2-m1,m2,m3...|\n",
      "+--------------------+\n",
      "\n"
     ]
    }
   ],
   "source": [
    "# concating the dataframe into single column\n",
    "\n",
    "contdf = df.withColumn(\"col\", expr(\"concat(col1,'-',col2,'-',col3,'-',col4)\")).drop(\n",
    "    \"col1\", \"col2\", \"col3\", \"col4\"\n",
    ")\n",
    "contdf.show()"
   ]
  },
  {
   "cell_type": "code",
   "execution_count": 15,
   "id": "594fa64d-e0fc-4335-a4f0-82ffca893248",
   "metadata": {
    "tags": []
   },
   "outputs": [
    {
     "name": "stdout",
     "output_type": "stream",
     "text": [
      "+-----------+\n",
      "|        col|\n",
      "+-----------+\n",
      "|         m1|\n",
      "|      m1,m2|\n",
      "|   m1,m2,m3|\n",
      "|m1,m2,m3,m4|\n",
      "+-----------+\n",
      "\n"
     ]
    }
   ],
   "source": [
    "finaldf = contdf.selectExpr(\"explode(split(col,'-')) as col\")\n",
    "finaldf.show()"
   ]
  },
  {
   "cell_type": "code",
   "execution_count": null,
   "id": "ec4e34b8-ca4d-4356-a3b5-3c8b94e9b470",
   "metadata": {},
   "outputs": [],
   "source": []
  }
 ],
 "metadata": {
  "kernelspec": {
   "display_name": "Python 3 (ipykernel)",
   "language": "python",
   "name": "python3"
  },
  "language_info": {
   "codemirror_mode": {
    "name": "ipython",
    "version": 3
   },
   "file_extension": ".py",
   "mimetype": "text/x-python",
   "name": "python",
   "nbconvert_exporter": "python",
   "pygments_lexer": "ipython3",
   "version": "3.7.0"
  }
 },
 "nbformat": 4,
 "nbformat_minor": 5
}
