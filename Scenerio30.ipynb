{
 "cells": [
  {
   "cell_type": "code",
   "execution_count": 1,
   "id": "8148ca11-3054-40c9-b01a-24dc8169bd4d",
   "metadata": {
    "tags": []
   },
   "outputs": [],
   "source": [
    "from pyspark import *\n",
    "from pyspark import SparkConf, SparkContext\n",
    "from pyspark.sql import *\n",
    "from pyspark.sql import SparkSession\n",
    "from pyspark.sql.functions import *\n",
    "from pyspark.sql.types import *\n",
    "from pyspark.sql.window import *\n",
    "\n",
    "conf = SparkConf().setMaster(\"local[*]\").setAppName(\"test\")\n",
    "sc = SparkContext(conf=conf)\n",
    "sc.setLogLevel(\"ERROR\")\n",
    "\n",
    "spark = SparkSession.builder.getOrCreate()"
   ]
  },
  {
   "cell_type": "code",
   "execution_count": 2,
   "id": "2eae0587-e373-4a4f-a0fa-dd1653df168f",
   "metadata": {
    "tags": []
   },
   "outputs": [
    {
     "name": "stderr",
     "output_type": "stream",
     "text": [
      "d:\\bigdata\\pyspark\\python37\\lib\\importlib\\_bootstrap.py:219: RuntimeWarning: numpy.ufunc size changed, may indicate binary incompatibility. Expected 192 from C header, got 216 from PyObject\n",
      "  return f(*args, **kwds)\n"
     ]
    },
    {
     "name": "stdout",
     "output_type": "stream",
     "text": [
      "+------+----+-------+-------+\n",
      "|emp_id|name|dept_id| salary|\n",
      "+------+----+-------+-------+\n",
      "|     1|   A|      A|1000000|\n",
      "|     2|   B|      A|2500000|\n",
      "|     3|   C|      G| 500000|\n",
      "|     4|   D|      G| 800000|\n",
      "|     5|   E|      W|9000000|\n",
      "|     6|   F|      W|2000000|\n",
      "+------+----+-------+-------+\n",
      "\n",
      "+--------+---------+\n",
      "|dept_id1|dept_name|\n",
      "+--------+---------+\n",
      "|       A|    AZURE|\n",
      "|       G|      GCP|\n",
      "|       W|      AWS|\n",
      "+--------+---------+\n",
      "\n"
     ]
    }
   ],
   "source": [
    "data1 = [\n",
    "    (1, \"A\", \"A\", 1000000),\n",
    "    (2, \"B\", \"A\", 2500000),\n",
    "    (3, \"C\", \"G\", 500000),\n",
    "    (4, \"D\", \"G\", 800000),\n",
    "    (5, \"E\", \"W\", 9000000),\n",
    "    (6, \"F\", \"W\", 2000000),\n",
    "]\n",
    "df1 = spark.createDataFrame(data1, [\"emp_id\", \"name\", \"dept_id\", \"salary\"])\n",
    "df1.show()\n",
    "\n",
    "data2 = [(\"A\", \"AZURE\"), (\"G\", \"GCP\"), (\"W\", \"AWS\")]\n",
    "df2 = spark.createDataFrame(data2, [\"dept_id1\", \"dept_name\"])\n",
    "df2.show()"
   ]
  },
  {
   "cell_type": "code",
   "execution_count": 3,
   "id": "d975d88d-3db6-40ab-9e3e-b43269f98188",
   "metadata": {
    "tags": []
   },
   "outputs": [
    {
     "name": "stdout",
     "output_type": "stream",
     "text": [
      "+------+----+-------+-------+---------+\n",
      "|emp_id|name|dept_id| salary|dept_name|\n",
      "+------+----+-------+-------+---------+\n",
      "|     1|   A|      A|1000000|    AZURE|\n",
      "|     2|   B|      A|2500000|    AZURE|\n",
      "|     5|   E|      W|9000000|      AWS|\n",
      "|     6|   F|      W|2000000|      AWS|\n",
      "|     3|   C|      G| 500000|      GCP|\n",
      "|     4|   D|      G| 800000|      GCP|\n",
      "+------+----+-------+-------+---------+\n",
      "\n"
     ]
    }
   ],
   "source": [
    "joindf = df1.join(df2, df1[\"dept_id\"] == df2[\"dept_id1\"], \"inner\").drop(\"dept_id1\")\n",
    "joindf.show()"
   ]
  },
  {
   "cell_type": "code",
   "execution_count": 5,
   "id": "8533dbae-3872-40b2-8931-5c96c832853c",
   "metadata": {
    "tags": []
   },
   "outputs": [
    {
     "name": "stdout",
     "output_type": "stream",
     "text": [
      "+------+----+-------+-------+---------+----+\n",
      "|emp_id|name|dept_id| salary|dept_name|rank|\n",
      "+------+----+-------+-------+---------+----+\n",
      "|     2|   B|      A|2500000|    AZURE|   1|\n",
      "|     1|   A|      A|1000000|    AZURE|   2|\n",
      "|     5|   E|      W|9000000|      AWS|   1|\n",
      "|     6|   F|      W|2000000|      AWS|   2|\n",
      "|     4|   D|      G| 800000|      GCP|   1|\n",
      "|     3|   C|      G| 500000|      GCP|   2|\n",
      "+------+----+-------+-------+---------+----+\n",
      "\n"
     ]
    }
   ],
   "source": [
    "wn = Window.partitionBy(\"dept_id\").orderBy(col(\"salary\").desc())\n",
    "\n",
    "rankdf = joindf.withColumn(\"rank\", dense_rank().over(wn))\n",
    "rankdf.show()"
   ]
  },
  {
   "cell_type": "code",
   "execution_count": 6,
   "id": "a37624d0-1513-4f73-ab36-4b09c1613adc",
   "metadata": {
    "tags": []
   },
   "outputs": [
    {
     "name": "stdout",
     "output_type": "stream",
     "text": [
      "+------+----+---------+-------+\n",
      "|emp_id|name|dept_name| salary|\n",
      "+------+----+---------+-------+\n",
      "|     1|   A|    AZURE|1000000|\n",
      "|     6|   F|      AWS|2000000|\n",
      "|     3|   C|      GCP| 500000|\n",
      "+------+----+---------+-------+\n",
      "\n"
     ]
    }
   ],
   "source": [
    "finaldf = (\n",
    "    rankdf.filter(col(\"rank\") == 2)\n",
    "    .drop(\"rank\")\n",
    "    .select(\"emp_id\", \"name\", \"dept_name\", \"salary\")\n",
    ")\n",
    "finaldf.show()"
   ]
  },
  {
   "cell_type": "code",
   "execution_count": null,
   "id": "0bc4c5b1-46b9-4837-b841-244f81f8816a",
   "metadata": {},
   "outputs": [],
   "source": []
  }
 ],
 "metadata": {
  "kernelspec": {
   "display_name": "Python 3 (ipykernel)",
   "language": "python",
   "name": "python3"
  },
  "language_info": {
   "codemirror_mode": {
    "name": "ipython",
    "version": 3
   },
   "file_extension": ".py",
   "mimetype": "text/x-python",
   "name": "python",
   "nbconvert_exporter": "python",
   "pygments_lexer": "ipython3",
   "version": "3.7.0"
  }
 },
 "nbformat": 4,
 "nbformat_minor": 5
}
